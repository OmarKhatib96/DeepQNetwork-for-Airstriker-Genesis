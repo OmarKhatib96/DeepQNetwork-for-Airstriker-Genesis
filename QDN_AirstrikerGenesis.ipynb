{
  "nbformat": 4,
  "nbformat_minor": 0,
  "metadata": {
    "accelerator": "GPU",
    "colab": {
      "name": "QDN-AirstrikerGenesis.ipynb",
      "provenance": [],
      "collapsed_sections": []
    },
    "kernelspec": {
      "display_name": "Python 3",
      "name": "python3"
    }
  },
  "cells": [
    {
      "cell_type": "code",
      "metadata": {
        "id": "DFSVC7ZXAPax"
      },
      "source": [
        "import numpy as np\n"
      ],
      "execution_count": null,
      "outputs": []
    },
    {
      "cell_type": "code",
      "metadata": {
        "colab": {
          "base_uri": "https://localhost:8080/"
        },
        "id": "35T-8NkSmJQY",
        "outputId": "5e3c907b-30d0-4308-e85e-22a890e9bd41"
      },
      "source": [
        "\n",
        "!pip install gym-retro\n",
        "import retro\n",
        "env = retro.make(game='Airstriker-Genesis')"
      ],
      "execution_count": null,
      "outputs": [
        {
          "output_type": "stream",
          "text": [
            "Requirement already satisfied: gym-retro in /usr/local/lib/python3.7/dist-packages (0.8.0)\n",
            "Requirement already satisfied: pyglet==1.*,>=1.3.2 in /usr/local/lib/python3.7/dist-packages (from gym-retro) (1.5.0)\n",
            "Requirement already satisfied: gym in /usr/local/lib/python3.7/dist-packages (from gym-retro) (0.17.3)\n",
            "Requirement already satisfied: future in /usr/local/lib/python3.7/dist-packages (from pyglet==1.*,>=1.3.2->gym-retro) (0.16.0)\n",
            "Requirement already satisfied: scipy in /usr/local/lib/python3.7/dist-packages (from gym->gym-retro) (1.4.1)\n",
            "Requirement already satisfied: numpy>=1.10.4 in /usr/local/lib/python3.7/dist-packages (from gym->gym-retro) (1.19.5)\n",
            "Requirement already satisfied: cloudpickle<1.7.0,>=1.2.0 in /usr/local/lib/python3.7/dist-packages (from gym->gym-retro) (1.3.0)\n"
          ],
          "name": "stdout"
        }
      ]
    },
    {
      "cell_type": "code",
      "metadata": {
        "colab": {
          "base_uri": "https://localhost:8080/"
        },
        "id": "G0IvN4C9mNNN",
        "outputId": "c6cf5f5e-7ed9-42d2-ac01-dffa3f2f49fc"
      },
      "source": [
        "shape=env.observation_space.shape\n",
        "state_size=shape[0]*shape[1]*shape[2]\n",
        "state_size\n",
        "print('state shape:',shape)\n"
      ],
      "execution_count": null,
      "outputs": [
        {
          "output_type": "stream",
          "text": [
            "state shape: (224, 320, 3)\n"
          ],
          "name": "stdout"
        }
      ]
    },
    {
      "cell_type": "code",
      "metadata": {
        "colab": {
          "base_uri": "https://localhost:8080/"
        },
        "id": "ZvGUw4or-dyo",
        "outputId": "d3ac2aa1-62ce-470d-912a-80ab3ab3f4f7"
      },
      "source": [
        "print(env.action_space.sample())"
      ],
      "execution_count": null,
      "outputs": [
        {
          "output_type": "stream",
          "text": [
            "[0 0 0 0 1 1 1 0 1 0 0 0]\n"
          ],
          "name": "stdout"
        }
      ]
    },
    {
      "cell_type": "code",
      "metadata": {
        "id": "9GPWAtlt-z-O"
      },
      "source": [
        "def hot_encode_action( action):\n",
        "    '''encoding the actions into a binary list'''\n",
        "\n",
        "    action_encoded=np.zeros(12, np.float32)\n",
        "    action_encoded[action]=1\n",
        "\n",
        "    return action_encoded"
      ],
      "execution_count": null,
      "outputs": []
    },
    {
      "cell_type": "code",
      "metadata": {
        "colab": {
          "base_uri": "https://localhost:8080/"
        },
        "id": "eA6zuKJ6mRgM",
        "outputId": "2182ea44-35ef-4ec4-c428-3f231506898e"
      },
      "source": [
        "nbActions=env.action_space.n\n",
        "print('num actions:',nbActions)"
      ],
      "execution_count": null,
      "outputs": [
        {
          "output_type": "stream",
          "text": [
            "num actions: 12\n"
          ],
          "name": "stdout"
        }
      ]
    },
    {
      "cell_type": "markdown",
      "metadata": {
        "id": "2wTkv82-89Zs"
      },
      "source": [
        ""
      ]
    },
    {
      "cell_type": "code",
      "metadata": {
        "id": "d3qNEy8e7k-T"
      },
      "source": [
        "\n",
        "\n",
        "def epsGreedy(mymodel, state, epsilon):\n",
        "  if np.random.rand() <= epsilon:\n",
        "    # explore\n",
        "     #return hot_encode_action(np.random.randint(0,high=nbActions))\n",
        "     return env.action_space.sample()\n",
        "  else:\n",
        "    #exploite\n",
        "    state=np.array(state)\n",
        "    #print('from epsGreedy',state)\n",
        "    q_values=my_model(state.reshape(1,state.shape[0],state.shape[1],state.shape[2],1))#Q_old\n",
        "    #return  env.action_space.sample()\n",
        "    return hot_encode_action(np.argmax(q_values[0]))\n",
        "    \n",
        "#input_data.reshape((input_data.shape[0],input_data.shape[1],input_data.shape[2],1)).shape[1:]"
      ],
      "execution_count": null,
      "outputs": []
    },
    {
      "cell_type": "code",
      "metadata": {
        "id": "quuuN5q8mIPI"
      },
      "source": [
        ""
      ],
      "execution_count": null,
      "outputs": []
    },
    {
      "cell_type": "code",
      "metadata": {
        "id": "3JJ6sX8smI02"
      },
      "source": [
        ""
      ],
      "execution_count": null,
      "outputs": []
    },
    {
      "cell_type": "code",
      "metadata": {
        "id": "PuKxNJhX0c1r"
      },
      "source": [
        "def epsGreedy2(state, epsilon):\n",
        "  # explore\n",
        "  a=np.random.randint(0,high=nbActions)\n",
        "  a=hot_encode_action(a)\n",
        "  return  env.action_space.sample()\n",
        " "
      ],
      "execution_count": null,
      "outputs": []
    },
    {
      "cell_type": "code",
      "metadata": {
        "id": "-vuEJWnMCCDp"
      },
      "source": [
        "D=[]\n",
        "A_t=[]\n",
        "D_t_p=[]\n",
        "A_t_p=[]\n",
        "V_t=[]\n",
        "dones=[]"
      ],
      "execution_count": null,
      "outputs": []
    },
    {
      "cell_type": "code",
      "metadata": {
        "id": "BUAgNi9L7tn-"
      },
      "source": [
        "def Memory_filling(nbr_episodes,alpha,epsilon,gamma):\n",
        "  nbActions = env.action_space.n\n",
        "  numActions = env.action_space\n",
        "  episodeLength=[]\n",
        "  episodeReward=[]\n",
        "  #let's learn\n",
        "  for it in range(nbr_episodes):#Répéter éternellement pour chaque épisode\n",
        "    s1 = env.reset()\n",
        "    w=np.array([0])\n",
        "    a1 = epsGreedy2(s1, epsilon)#on choisit une action avec epsilon-greedy\n",
        "    done=False\n",
        "    rt=0\n",
        "    el=0\n",
        "    while (not done):#Répète pour chaque étape de l'épisode\n",
        "      s2, r, done, info = env.step(a1)\n",
        "      #s2 = encode(obs, tilings)\n",
        "      a2 = epsGreedy2( s2, epsilon)\n",
        "      s1_temp=s1\n",
        "      a1_temp=a1\n",
        "      s1 = s2\n",
        "      a1 = a2#la nouvelle action devient l'ancienne \n",
        "      el += 1\n",
        "      rt += r\n",
        "      transition=[s1,a1_temp,r,s2,done]\n",
        "      D.append(s1_temp)\n",
        "      A_t.append(a1_temp)\n",
        "      A_t_p.append(a1)\n",
        "      D_t_p.append(s1)\n",
        "      V_t.append(r)\n",
        "      dones.append(done)\n",
        "      \n",
        "    episodeLength.append(el)\n",
        "    episodeReward.append(rt)\n",
        "  return w, episodeLength, episodeReward,np.array(D),np.array(A_t),np.array(V_t),np.array(D_t_p),np.array(A_t_p),np.array(dones)\n"
      ],
      "execution_count": null,
      "outputs": []
    },
    {
      "cell_type": "code",
      "metadata": {
        "id": "6sU-WJCJdIUH"
      },
      "source": [
        ""
      ],
      "execution_count": null,
      "outputs": []
    },
    {
      "cell_type": "code",
      "metadata": {
        "id": "UNPhrXwSmvBN"
      },
      "source": [
        ""
      ],
      "execution_count": null,
      "outputs": []
    },
    {
      "cell_type": "code",
      "metadata": {
        "id": "yPe7yYVFAvMH"
      },
      "source": [
        "  w_test,episodeLength_test,episodeReward_test,my_memory_test,policies_test,values_test,my_memory_test_p,policies_test_p,dones_p=Memory_filling(2,0.01,0.1,0.99)"
      ],
      "execution_count": null,
      "outputs": []
    },
    {
      "cell_type": "code",
      "metadata": {
        "id": "z9DPnElgrzDg"
      },
      "source": [
        "import tensorflow as tf\n",
        "from keras import backend as K\n",
        "from keras.optimizers import Adam\n",
        "\n",
        "\n",
        "def huber_loss(y_true, y_pred, clip_delta=1.0):\n",
        "      error = y_true - y_pred\n",
        "      print(error)\n",
        "      cond  = K.abs(error) <= clip_delta\n",
        "\n",
        "      squared_loss = 0.5 * K.square(error)\n",
        "      quadratic_loss = 0.5 * K.square(clip_delta) + clip_delta * (K.abs(error) - clip_delta)\n",
        "\n",
        "      return K.mean(tf.where(cond, squared_loss, quadratic_loss))"
      ],
      "execution_count": null,
      "outputs": []
    },
    {
      "cell_type": "code",
      "metadata": {
        "id": "ol5DKaTSIb55"
      },
      "source": [
        "def resize(state):\n",
        "      return cv2.resize(state,(32,32))"
      ],
      "execution_count": null,
      "outputs": []
    },
    {
      "cell_type": "code",
      "metadata": {
        "id": "_bhWUotxiV9i"
      },
      "source": [
        "import tensorflow as tf\n",
        "import tensorflow.keras as keras\n",
        "\n",
        "import numpy as np\n",
        "from tensorflow.keras import layers \n",
        "from tensorflow.keras import regularizers\n",
        "\n",
        "nb_actions = env.action_space.n\n",
        "epochs = 200\n",
        "batch = 20\n",
        "#*****\n",
        "alpha=0.01\n",
        "epsilon=0.8\n",
        "gamma=0.90\n",
        "filters=3\n",
        "\n",
        "learning_rate=0.001\n",
        "\n",
        "def NN_qlearning(input_data):\n",
        "  N =input_data.shape[0]\n",
        "  input_data = input_data.astype ('float32')\n",
        "  value = np.random.randint(2, size=(batch,))#gagné ou perdu\n",
        "  value = value.astype ('float32')\n",
        "  #print(input_data.shape)\n",
        "  #input = keras.Input(shape=input_data.reshape((input_data.shape[0],input_data.shape[1],input_data.shape[2],input_data.shape[3],1)).shape[1:],batch_size=batch, name='data')\n",
        "  input=keras.Input(shape=(32,32,3))\n",
        "  for i in range (4):#pour model résiduel\n",
        "      x = layers.ReLU()(input)\n",
        "      x=layers.Dropout(0.10)(x)\n",
        "      x = layers.BatchNormalization()(x)\n",
        "\n",
        "  \n",
        "  value_head = layers.Dense(30, activation='relu', kernel_regularizer=regularizers.l2(0.0001))(x)\n",
        "  value_head=layers.Dropout(0.10)(value_head)\n",
        "  value_head = layers.Flatten()(value_head)\n",
        "  value_head = layers.Dense(nb_actions, activation='linear', name='value', kernel_regularizer=regularizers.l2(0.0008))(value_head)\n",
        "\n",
        "  model = keras.Model(inputs=input, outputs= value_head)\n",
        "  model.summary ()\n",
        "\n",
        "  model.compile(loss=huber_loss,\n",
        "                      optimizer=Adam(lr=learning_rate))\n",
        "  \n",
        "  \n",
        "  return model\n",
        "\n",
        "\n",
        "\n"
      ],
      "execution_count": null,
      "outputs": []
    },
    {
      "cell_type": "code",
      "metadata": {
        "id": "0K6NUU2IehOT",
        "colab": {
          "base_uri": "https://localhost:8080/"
        },
        "outputId": "8a01e8dc-7ec9-4e03-f6b8-f4e7c0e5e913"
      },
      "source": [
        "my_model= NN_qlearning(my_memory_test)\n",
        "target_model=NN_qlearning(my_memory_test)\n",
        "\n",
        "\n"
      ],
      "execution_count": null,
      "outputs": [
        {
          "output_type": "stream",
          "text": [
            "Model: \"model_28\"\n",
            "_________________________________________________________________\n",
            "Layer (type)                 Output Shape              Param #   \n",
            "=================================================================\n",
            "input_21 (InputLayer)        [(None, 32, 32, 3)]       0         \n",
            "_________________________________________________________________\n",
            "re_lu_115 (ReLU)             (None, 32, 32, 3)         0         \n",
            "_________________________________________________________________\n",
            "dropout_143 (Dropout)        (None, 32, 32, 3)         0         \n",
            "_________________________________________________________________\n",
            "batch_normalization_115 (Bat (None, 32, 32, 3)         12        \n",
            "_________________________________________________________________\n",
            "dense_28 (Dense)             (None, 32, 32, 30)        120       \n",
            "_________________________________________________________________\n",
            "dropout_144 (Dropout)        (None, 32, 32, 30)        0         \n",
            "_________________________________________________________________\n",
            "flatten_28 (Flatten)         (None, 30720)             0         \n",
            "_________________________________________________________________\n",
            "value (Dense)                (None, 12)                368652    \n",
            "=================================================================\n",
            "Total params: 368,784\n",
            "Trainable params: 368,778\n",
            "Non-trainable params: 6\n",
            "_________________________________________________________________\n"
          ],
          "name": "stdout"
        },
        {
          "output_type": "stream",
          "text": [
            "/usr/local/lib/python3.7/dist-packages/tensorflow/python/keras/optimizer_v2/optimizer_v2.py:375: UserWarning: The `lr` argument is deprecated, use `learning_rate` instead.\n",
            "  \"The `lr` argument is deprecated, use `learning_rate` instead.\")\n"
          ],
          "name": "stderr"
        },
        {
          "output_type": "stream",
          "text": [
            "Model: \"model_29\"\n",
            "_________________________________________________________________\n",
            "Layer (type)                 Output Shape              Param #   \n",
            "=================================================================\n",
            "input_22 (InputLayer)        [(None, 32, 32, 3)]       0         \n",
            "_________________________________________________________________\n",
            "re_lu_119 (ReLU)             (None, 32, 32, 3)         0         \n",
            "_________________________________________________________________\n",
            "dropout_148 (Dropout)        (None, 32, 32, 3)         0         \n",
            "_________________________________________________________________\n",
            "batch_normalization_119 (Bat (None, 32, 32, 3)         12        \n",
            "_________________________________________________________________\n",
            "dense_29 (Dense)             (None, 32, 32, 30)        120       \n",
            "_________________________________________________________________\n",
            "dropout_149 (Dropout)        (None, 32, 32, 30)        0         \n",
            "_________________________________________________________________\n",
            "flatten_29 (Flatten)         (None, 30720)             0         \n",
            "_________________________________________________________________\n",
            "value (Dense)                (None, 12)                368652    \n",
            "=================================================================\n",
            "Total params: 368,784\n",
            "Trainable params: 368,778\n",
            "Non-trainable params: 6\n",
            "_________________________________________________________________\n"
          ],
          "name": "stdout"
        }
      ]
    },
    {
      "cell_type": "code",
      "metadata": {
        "id": "lHz_dWT8iUpJ"
      },
      "source": [
        "\n",
        "def add_to_memory(s1_temp,a1_temp,r,s1,done):\n",
        "  D.append(s1_temp)\n",
        "  A_t.append(a1_temp)\n",
        "  D_t_p.append(s1)\n",
        "  V_t.append(r)\n",
        "  dones.append(done)\n",
        "\n"
      ],
      "execution_count": null,
      "outputs": []
    },
    {
      "cell_type": "code",
      "metadata": {
        "id": "EOkzpwKtjPnf"
      },
      "source": [
        "def pick_random_transition(batch_size):\n",
        "\n",
        "  indice = np.random.choice(len(D), batch_size, replace=False)#on tire un indice aléatoire \n",
        "  transition_aleatoire=[]\n",
        "  policies=[]\n",
        "  values=[]\n",
        "  policies_p=[]\n",
        "  transition_aleatoire_p=[]\n",
        "  dones_rand=[]\n",
        "\n",
        "  for idx in range(len(indice)):\n",
        "    transition_aleatoire.append(D[indice[idx]])\n",
        "    policies.append(A_t[indice[idx]])\n",
        "    values.append(V_t[indice[idx]])\n",
        "    transition_aleatoire_p.append(D_t_p[indice[idx]])\n",
        "    dones_rand.append(dones[indice[idx]])\n",
        "\n",
        "\n",
        "  return np.array(transition_aleatoire),np.array(policies),np.array(values),np.array(transition_aleatoire_p),np.array(dones_rand)\n"
      ],
      "execution_count": null,
      "outputs": []
    },
    {
      "cell_type": "code",
      "metadata": {
        "id": "A5tOxCz4rSpO"
      },
      "source": [
        "def replay(my_model,target_model,batch_size,epsilon):\n",
        "      state,policies,value,new_state,done=pick_random_transition(1)#tirer des transitions aléatoires (ici 1 seule)\n",
        "      state=state[0, :, :]\n",
        "      shape=state.shape\n",
        "      new_state=new_state[0, :, :]\n",
        "      new_state=resize(new_state)\n",
        "      new_state=new_state.reshape(1,new_state.shape[0],new_state.shape[1],new_state.shape[2])\n",
        "      value = value.astype('float32')#Calcuker\n",
        "      state=resize(state)\n",
        "      shape=state.shape\n",
        "      state=state.reshape(1,shape[0],shape[1],shape[2])\n",
        "      target=my_model(state)#Q_old, OK\n",
        "\n",
        "      #print(target.shape)\n",
        "      #si c'est terminé, mon réseau a la bonne réponse pas besoin d'apprendre\n",
        "      if  done:\n",
        "        target.numpy()[0][policies]=value#OK\n",
        "        #print(rt,epsilon)\n",
        "        \n",
        "\n",
        "      else:\n",
        "        #print(position_p.shape)\n",
        "        #print(policies.shape)\n",
        "        target.numpy()[0][np.argmax(policies,axis=1)]=value+gamma*np.amax(target_model(new_state)[0]) #target.numpy()[0] is to convert the tensor  into  a nimpy array   #OK\n",
        "        target=tf.convert_to_tensor(target)#we convert it back into a tensor\n",
        "        if(epsilon>epsilon_min):\n",
        "          epsilon -= reduction #decay epsilon  \n",
        "        #env.render()\n",
        "        history = my_model.fit(state,#Optimisation de l'erreur moyenne\n",
        "                              { 'value': target}, \n",
        "                              epochs=1, batch_size=batch,verbose=2)\n"
      ],
      "execution_count": null,
      "outputs": []
    },
    {
      "cell_type": "code",
      "metadata": {
        "id": "dp-uCnWOwAR_"
      },
      "source": [
        "def target_train(my_model,target_model):\n",
        "  weight=my_model.get_weights()\n",
        "  target_weights=target_model.get_weights()\n",
        "  for i in range(len(target_weights)):\n",
        "    target_weights[i] = weights[i]\n",
        "    self.target_model.set_weights(target_weights)\n"
      ],
      "execution_count": null,
      "outputs": []
    },
    {
      "cell_type": "markdown",
      "metadata": {
        "id": "ifXAunIvrSat"
      },
      "source": [
        ""
      ]
    },
    {
      "cell_type": "code",
      "metadata": {
        "id": "egMyn9nijxOU"
      },
      "source": [
        "NBR_MAX_ITERATIONS=600\n",
        "epsilon_min=0.01\n",
        "epsilon=0.99\n",
        "nbr_episodes=20\n",
        "reduction =(epsilon)/nbr_episodes\n",
        "\n",
        "def deep_qn(my_model,my_target_model,nbr_episodes,alpha,epsilon,gamma):\n",
        "  nbActions = env.action_space.n\n",
        "  numActions = env.action_space\n",
        "  episodeLength=[]\n",
        "  episodeReward=[]\n",
        "  rewards=[]\n",
        "  length_table=[]\n",
        "  rt=0\n",
        "\n",
        "  #let's learn\n",
        "  for episode in range(nbr_episodes):#Répéter éternellement pour chaque épisode\n",
        "    current_state = resize(env.reset())\n",
        "    a1 = epsGreedy(my_model, current_state, epsilon)#on choisit une action avec epsilon-greedy\n",
        "    episodeReward.append(rt)\n",
        "    episodeLength.append(episode)\n",
        "    done=False\n",
        "    rt=0\n",
        "    el=0\n",
        "    length=0\n",
        "    for it in range(NBR_MAX_ITERATIONS):\n",
        "      a1 = epsGreedy(my_model, current_state, epsilon)#on choisit une action avec epsilon-greedy\n",
        "      new_state, r, done, _ = env.step(a1)     \n",
        "      length=length+1\n",
        "       # updates\n",
        "      a1_temp=a1\n",
        "      el += 1\n",
        "      rt += r\n",
        "      print(r)\n",
        "      add_to_memory(resize(current_state),a1_temp,r,resize(new_state),done)#Ajouter dans la mémoire \n",
        "      #ça c'est la partie replay\n",
        "      replay(my_model,target_model,1,epsilon)\n",
        "      target_model.set_weights(my_model.get_weights())#update the target network\n",
        "      curent_state=new_state\n",
        "      if done:\n",
        "        print('done')\n",
        "       \n",
        "        break\n",
        "      \n",
        "       \n",
        "      '''\n",
        "      if it >= 199:\n",
        "          print(\"Failed to complete in trial {}\".format(episode))\n",
        "          if it % 10 == 0:\n",
        "              my_model.save(\"trial-{}.model\".format(episode))\n",
        "      else:\n",
        "          print(\"Completed in {} trials\".format(episode))\n",
        "          my_model.save(\"success.model\")\n",
        "          break\n",
        "      '''\n",
        "  env.close()\n",
        "  return episodeReward,episodeLength\n",
        "        \n",
        "        \n",
        "      \n",
        "      \n",
        "      #target_value is the label here "
      ],
      "execution_count": null,
      "outputs": []
    },
    {
      "cell_type": "code",
      "metadata": {
        "colab": {
          "base_uri": "https://localhost:8080/"
        },
        "id": "EDnoElo8MQ45",
        "outputId": "af57e1ef-484e-403a-a05e-5ac82f166324"
      },
      "source": [
        "!apt-get install python-opengl -y\n",
        "\n",
        "!apt install xvfb -y\n",
        "\n",
        "!pip install pyvirtualdisplay\n",
        "\n",
        "!pip install piglet\n",
        "\n",
        "\n",
        "from pyvirtualdisplay import Display\n",
        "Display().start()\n",
        "\n",
        "import gym\n",
        "from IPython import display\n",
        "import matplotlib.pyplot as plt\n",
        "%matplotlib inline"
      ],
      "execution_count": null,
      "outputs": [
        {
          "output_type": "stream",
          "text": [
            "Reading package lists... Done\n",
            "Building dependency tree       \n",
            "Reading state information... Done\n",
            "python-opengl is already the newest version (3.1.0+dfsg-1).\n",
            "0 upgraded, 0 newly installed, 0 to remove and 40 not upgraded.\n",
            "Reading package lists... Done\n",
            "Building dependency tree       \n",
            "Reading state information... Done\n",
            "xvfb is already the newest version (2:1.19.6-1ubuntu4.9).\n",
            "0 upgraded, 0 newly installed, 0 to remove and 40 not upgraded.\n",
            "Requirement already satisfied: pyvirtualdisplay in /usr/local/lib/python3.7/dist-packages (2.2)\n",
            "Requirement already satisfied: EasyProcess in /usr/local/lib/python3.7/dist-packages (from pyvirtualdisplay) (0.3)\n",
            "Requirement already satisfied: piglet in /usr/local/lib/python3.7/dist-packages (1.0.0)\n",
            "Requirement already satisfied: piglet-templates in /usr/local/lib/python3.7/dist-packages (from piglet) (1.2.0)\n",
            "Requirement already satisfied: astunparse in /usr/local/lib/python3.7/dist-packages (from piglet-templates->piglet) (1.6.3)\n",
            "Requirement already satisfied: markupsafe in /usr/local/lib/python3.7/dist-packages (from piglet-templates->piglet) (2.0.1)\n",
            "Requirement already satisfied: pyparsing in /usr/local/lib/python3.7/dist-packages (from piglet-templates->piglet) (2.4.7)\n",
            "Requirement already satisfied: attrs in /usr/local/lib/python3.7/dist-packages (from piglet-templates->piglet) (21.2.0)\n",
            "Requirement already satisfied: wheel<1.0,>=0.23.0 in /usr/local/lib/python3.7/dist-packages (from astunparse->piglet-templates->piglet) (0.36.2)\n",
            "Requirement already satisfied: six<2.0,>=1.6.1 in /usr/local/lib/python3.7/dist-packages (from astunparse->piglet-templates->piglet) (1.15.0)\n"
          ],
          "name": "stdout"
        }
      ]
    },
    {
      "cell_type": "code",
      "metadata": {
        "id": "WUPbTnagY26s"
      },
      "source": [
        "import cv2\n",
        "#f I understand it correctly, the old SEGA controller has 12 buttons ('B', 'A', 'MODE', 'START', 'UP', 'DOWN', 'LEFT', 'RIGHT', 'C', 'Y', 'X', 'Z')\n",
        "e1,e2=deep_qn(my_model,target_model,20,0.01,0.99,0.90)"
      ],
      "execution_count": null,
      "outputs": []
    },
    {
      "cell_type": "code",
      "metadata": {
        "colab": {
          "base_uri": "https://localhost:8080/"
        },
        "id": "z0HeViSgWYnE",
        "outputId": "a725239b-5257-4e6c-f6c7-ab5bba5a3527"
      },
      "source": [
        "my_model.save(\"success.model\")\n"
      ],
      "execution_count": null,
      "outputs": [
        {
          "output_type": "stream",
          "text": [
            "INFO:tensorflow:Assets written to: success.model/assets\n"
          ],
          "name": "stdout"
        },
        {
          "output_type": "stream",
          "text": [
            "INFO:tensorflow:Assets written to: success.model/assets\n"
          ],
          "name": "stderr"
        }
      ]
    },
    {
      "cell_type": "code",
      "metadata": {
        "colab": {
          "base_uri": "https://localhost:8080/"
        },
        "id": "x0a8hlJfWg9N",
        "outputId": "8f5a8628-8ff7-4e95-bc3b-7154debbbcb3"
      },
      "source": [
        "print(e1) \n",
        "print(e2)"
      ],
      "execution_count": null,
      "outputs": [
        {
          "output_type": "stream",
          "text": [
            "[0, 60.0, 60.0, 40.0, 80.0, 80.0, 40.0, 100.0, 60.0, 20.0, 100.0, 60.0, 60.0, 60.0, 80.0, 60.0, 60.0, 40.0, 80.0, 80.0]\n",
            "[0, 1, 2, 3, 4, 5, 6, 7, 8, 9, 10, 11, 12, 13, 14, 15, 16, 17, 18, 19]\n"
          ],
          "name": "stdout"
        }
      ]
    },
    {
      "cell_type": "code",
      "metadata": {
        "colab": {
          "base_uri": "https://localhost:8080/",
          "height": 282
        },
        "id": "YCVoS2EhiN3E",
        "outputId": "2a83908c-34a0-4153-cf48-0275d8f31505"
      },
      "source": [
        "plt.plot(e2,e1)"
      ],
      "execution_count": null,
      "outputs": [
        {
          "output_type": "execute_result",
          "data": {
            "text/plain": [
              "[<matplotlib.lines.Line2D at 0x7fbc82a3f8d0>]"
            ]
          },
          "metadata": {
            "tags": []
          },
          "execution_count": 416
        },
        {
          "output_type": "display_data",
          "data": {
            "image/png": "[encoded data removed]",
            "text/plain": [
              "<Figure size 432x288 with 1 Axes>"
            ]
          },
          "metadata": {
            "tags": [],
            "needs_background": "light"
          }
        }
      ]
    }
  ]
}